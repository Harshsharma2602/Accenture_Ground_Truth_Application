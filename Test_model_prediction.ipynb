{
 "cells": [
  {
   "cell_type": "code",
   "execution_count": null,
   "id": "629f94d3",
   "metadata": {},
   "outputs": [],
   "source": [
    "from tensorflow.keras.preprocessing.image import load_img\n",
    "\n",
    "image_path = #r'D:\\Accenture_Project\\Plastic Pollution.v4i.tensorflow\\test\\Plastic-Pollution_original_plastic--2--jpg_521af4bb-4a08-408b-a220-5f3a15195205_jpg.rf.bb471805d3216ad1de16a9cb9c474903.jpg'\n",
    "image = load_img(image_path, target_size=(224, 224))\n",
    "image_array = tf.keras.preprocessing.image.img_to_array(image)\n",
    "image_array = image_array / 255.0\n",
    "\n",
    "image_array = image_array.reshape((1, 224, 224, 3))\n",
    "\n",
    "predictions = model.predict(image_array)\n",
    "confidence = predictions[0][0]\n",
    "\n",
    "class_label = 'plastic waste' if confidence >= 0.50 else 'non-plastic waste'\n",
    "print('Prediction:', class_label)\n",
    "print('Confidence:', confidence)"
   ]
  }
 ],
 "metadata": {
  "kernelspec": {
   "display_name": "Python 3",
   "language": "python",
   "name": "python3"
  },
  "language_info": {
   "codemirror_mode": {
    "name": "ipython",
    "version": 3
   },
   "file_extension": ".py",
   "mimetype": "text/x-python",
   "name": "python",
   "nbconvert_exporter": "python",
   "pygments_lexer": "ipython3",
   "version": "3.8.8"
  }
 },
 "nbformat": 4,
 "nbformat_minor": 5
}
