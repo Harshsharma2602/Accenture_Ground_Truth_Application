{
 "cells": [
  {
   "cell_type": "code",
   "execution_count": null,
   "id": "33a09d98",
   "metadata": {},
   "outputs": [],
   "source": [
    "import cv2\n",
    "import pandas as pd\n",
    "import os\n",
    "\n",
    "image_folder = #r'D:\\Accenture_Project\\Plastic Pollution.v4i.tensorflow\\train'\n",
    "annotation_file = #r'D:\\Accenture_Project\\Plastic Pollution.v4i.tensorflow\\train\\_annotations.csv'\n",
    "annotations = pd.read_csv(annotation_file)\n",
    "output_dir = #r'D:\\Accenture_Project\\Plastic Pollution.v4i.tensorflow\\train\\directory'\n",
    "os.makedirs(output_dir, exist_ok=True)\n",
    "\n",
    "for _, row in annotations.iterrows():\n",
    "    filename = row['filename']\n",
    "    width = row['width']\n",
    "    height = row['height']\n",
    "    class_name = row['class']\n",
    "    xmin = row['xmin']\n",
    "    ymin = row['ymin']\n",
    "    xmax = row['xmax']\n",
    "    ymax = row['ymax']\n",
    "\n",
    "    \n",
    "    image_path = os.path.join(image_folder, filename)\n",
    "    image = cv2.imread(image_path)\n",
    "\n",
    "    cv2.rectangle(image, (xmin, ymin), (xmax, ymax), (0, 255, 0), 2)\n",
    "\n",
    "\n",
    "    cv2.putText(image, class_name, (xmin, ymin - 10),\n",
    "                cv2.FONT_HERSHEY_SIMPLEX, 0.9, (0, 255, 0), 2)\n",
    "\n",
    "    output_path = os.path.join(output_dir, filename)\n",
    "    cv2.imwrite(output_path, image)"
   ]
  }
 ],
 "metadata": {
  "kernelspec": {
   "display_name": "Python 3",
   "language": "python",
   "name": "python3"
  },
  "language_info": {
   "codemirror_mode": {
    "name": "ipython",
    "version": 3
   },
   "file_extension": ".py",
   "mimetype": "text/x-python",
   "name": "python",
   "nbconvert_exporter": "python",
   "pygments_lexer": "ipython3",
   "version": "3.8.8"
  }
 },
 "nbformat": 4,
 "nbformat_minor": 5
}
