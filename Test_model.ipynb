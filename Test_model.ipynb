{
 "cells": [
  {
   "cell_type": "code",
   "execution_count": null,
   "id": "9d81d0d9",
   "metadata": {},
   "outputs": [],
   "source": [
    "import os\n",
    "import tensorflow as tf\n",
    "from tensorflow.keras.preprocessing.image import ImageDataGenerator\n",
    "from tensorflow.keras.callbacks import EarlyStopping\n",
    "\n",
    "dataset_path = #r'D:\\Accenture_Project\\Plastic Pollution.v4i.tensorflow\\Directory'\n",
    "\n",
    "datagen = ImageDataGenerator(rescale=1./255,\n",
    "                             validation_split=0.3,\n",
    "                             horizontal_flip=True,\n",
    "                             rotation_range=45)\n",
    "\n",
    "train_data = datagen.flow_from_directory(os.path.join(dataset_path),\n",
    "                                         target_size=(224, 224),\n",
    "                                         batch_size=100,\n",
    "                                         subset='training')\n",
    "\n",
    "val_data = datagen.flow_from_directory(os.path.join(dataset_path),\n",
    "                                       target_size=(224, 224),\n",
    "                                       batch_size=100,\n",
    "                                       subset='validation')\n",
    "\n",
    "model = tf.keras.models.Sequential([\n",
    "    tf.keras.layers.Conv2D(100, (3, 3), activation='relu', input_shape=(224, 224, 3)),\n",
    "    tf.keras.layers.MaxPooling2D(2, 2),\n",
    "    tf.keras.layers.Dropout(0.3),\n",
    "    tf.keras.layers.Conv2D(100, (3, 3), activation='relu'),\n",
    "    tf.keras.layers.MaxPooling2D(2, 2),\n",
    "    tf.keras.layers.Dropout(0.1),\n",
    "    tf.keras.layers.Flatten(),\n",
    "    tf.keras.layers.Dense(1, activation='sigmoid')\n",
    "])\n",
    "\n",
    "model.compile(optimizer='adam',\n",
    "              loss='binary_crossentropy',\n",
    "              metrics=['accuracy'])\n",
    "\n",
    "early_stopping = EarlyStopping(monitor='val_loss', patience=10, restore_best_weights=True)\n",
    "model.fit(train_data, validation_data=val_data, callbacks=[early_stopping], epochs=10)\n",
    "\n",
    "model.save('trained_model.h5')\n",
    "\n",
    "\n"
   ]
  }
 ],
 "metadata": {
  "kernelspec": {
   "display_name": "Python 3",
   "language": "python",
   "name": "python3"
  },
  "language_info": {
   "codemirror_mode": {
    "name": "ipython",
    "version": 3
   },
   "file_extension": ".py",
   "mimetype": "text/x-python",
   "name": "python",
   "nbconvert_exporter": "python",
   "pygments_lexer": "ipython3",
   "version": "3.8.8"
  }
 },
 "nbformat": 4,
 "nbformat_minor": 5
}
