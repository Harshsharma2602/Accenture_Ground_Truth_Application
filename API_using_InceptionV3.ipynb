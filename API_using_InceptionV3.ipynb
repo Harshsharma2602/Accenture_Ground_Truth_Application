{
 "cells": [
  {
   "cell_type": "code",
   "execution_count": null,
   "id": "747142b7",
   "metadata": {},
   "outputs": [],
   "source": [
    "import tensorflow as tf\n",
    "from tensorflow.keras.preprocessing import image\n",
    "from tensorflow.keras.applications.inception_v3 import preprocess_input, decode_predictions\n",
    "import numpy as np\n",
    "\n",
    "model = tf.keras.models.load_model('trained_model.h5')\n",
    "\n",
    "input_shape = (299, 299, 3)\n",
    "\n",
    "def preprocess_image(image_path):\n",
    "    img = image.load_img(image_path, target_size=input_shape[:2])\n",
    "    x = image.img_to_array(img)\n",
    "    x = np.expand_dims(x, axis=0)\n",
    "    x = preprocess_input(x)\n",
    "    return x\n",
    "\n",
    "def predict_image(image_path):\n",
    "    img = preprocess_image(image_path)\n",
    "    preds = model.predict(img)\n",
    "    decoded_preds = decode_predictions(preds, top=3)[0]\n",
    "    return decoded_preds\n",
    "\n",
    "image_path = #'Camera_Image_Path'\n",
    "\n",
    "predictions = predict_image(image_path)\n",
    "\n",
    "for pred in predictions:\n",
    "    print(f'{pred[1]}: {pred[2]*100:.2f}% confidence')"
   ]
  }
 ],
 "metadata": {
  "kernelspec": {
   "display_name": "Python 3",
   "language": "python",
   "name": "python3"
  },
  "language_info": {
   "codemirror_mode": {
    "name": "ipython",
    "version": 3
   },
   "file_extension": ".py",
   "mimetype": "text/x-python",
   "name": "python",
   "nbconvert_exporter": "python",
   "pygments_lexer": "ipython3",
   "version": "3.8.8"
  }
 },
 "nbformat": 4,
 "nbformat_minor": 5
}
